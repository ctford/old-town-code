{
 "cells": [
  {
   "cell_type": "markdown",
   "metadata": {},
   "source": [
    "# Old town code"
   ]
  },
  {
   "cell_type": "markdown",
   "metadata": {},
   "source": [
    "## Raw midi"
   ]
  },
  {
   "cell_type": "markdown",
   "metadata": {},
   "source": [
    "### Import"
   ]
  },
  {
   "cell_type": "code",
   "execution_count": 701,
   "metadata": {},
   "outputs": [],
   "source": [
    "import pandas\n",
    "import sklearn\n",
    "import numpy\n",
    "from sklearn import model_selection\n",
    "from sklearn import linear_model"
   ]
  },
  {
   "cell_type": "markdown",
   "metadata": {},
   "source": [
    "### Load data"
   ]
  },
  {
   "cell_type": "code",
   "execution_count": 702,
   "metadata": {},
   "outputs": [
    {
     "data": {
      "text/html": [
       "<div>\n",
       "<style scoped>\n",
       "    .dataframe tbody tr th:only-of-type {\n",
       "        vertical-align: middle;\n",
       "    }\n",
       "\n",
       "    .dataframe tbody tr th {\n",
       "        vertical-align: top;\n",
       "    }\n",
       "\n",
       "    .dataframe thead th {\n",
       "        text-align: right;\n",
       "    }\n",
       "</style>\n",
       "<table border=\"1\" class=\"dataframe\">\n",
       "  <thead>\n",
       "    <tr style=\"text-align: right;\">\n",
       "      <th></th>\n",
       "      <th>Key</th>\n",
       "      <th>W</th>\n",
       "      <th>X</th>\n",
       "      <th>Y</th>\n",
       "      <th>Z</th>\n",
       "      <th>Numeric Key</th>\n",
       "    </tr>\n",
       "  </thead>\n",
       "  <tbody>\n",
       "    <tr>\n",
       "      <th>4454</th>\n",
       "      <td>D</td>\n",
       "      <td>13</td>\n",
       "      <td>67</td>\n",
       "      <td>31</td>\n",
       "      <td>109</td>\n",
       "      <td>3</td>\n",
       "    </tr>\n",
       "    <tr>\n",
       "      <th>3121</th>\n",
       "      <td>E</td>\n",
       "      <td>88</td>\n",
       "      <td>105</td>\n",
       "      <td>23</td>\n",
       "      <td>90</td>\n",
       "      <td>4</td>\n",
       "    </tr>\n",
       "    <tr>\n",
       "      <th>4776</th>\n",
       "      <td>D</td>\n",
       "      <td>73</td>\n",
       "      <td>47</td>\n",
       "      <td>93</td>\n",
       "      <td>117</td>\n",
       "      <td>3</td>\n",
       "    </tr>\n",
       "    <tr>\n",
       "      <th>849</th>\n",
       "      <td>G</td>\n",
       "      <td>55</td>\n",
       "      <td>93</td>\n",
       "      <td>50</td>\n",
       "      <td>57</td>\n",
       "      <td>6</td>\n",
       "    </tr>\n",
       "    <tr>\n",
       "      <th>4448</th>\n",
       "      <td>E</td>\n",
       "      <td>13</td>\n",
       "      <td>105</td>\n",
       "      <td>30</td>\n",
       "      <td>85</td>\n",
       "      <td>4</td>\n",
       "    </tr>\n",
       "  </tbody>\n",
       "</table>\n",
       "</div>"
      ],
      "text/plain": [
       "     Key   W    X   Y    Z  Numeric Key\n",
       "4454   D  13   67  31  109            3\n",
       "3121   E  88  105  23   90            4\n",
       "4776   D  73   47  93  117            3\n",
       "849    G  55   93  50   57            6\n",
       "4448   E  13  105  30   85            4"
      ]
     },
     "execution_count": 702,
     "metadata": {},
     "output_type": "execute_result"
    }
   ],
   "source": [
    "df = pandas.read_csv(\"samples.csv\")\n",
    "keys = ['A', 'B', 'C', 'D', 'E', 'F', 'G']\n",
    "df['Numeric Key'] = df['Key'].map(lambda k : keys.index(k))\n",
    "df.sample(n=5)"
   ]
  },
  {
   "cell_type": "markdown",
   "metadata": {},
   "source": [
    "### Split into training and test sets"
   ]
  },
  {
   "cell_type": "code",
   "execution_count": 703,
   "metadata": {},
   "outputs": [
    {
     "name": "stdout",
     "output_type": "stream",
     "text": [
      "Training set size: 4000\n",
      "Test set size: 1000\n"
     ]
    },
    {
     "data": {
      "text/html": [
       "<div>\n",
       "<style scoped>\n",
       "    .dataframe tbody tr th:only-of-type {\n",
       "        vertical-align: middle;\n",
       "    }\n",
       "\n",
       "    .dataframe tbody tr th {\n",
       "        vertical-align: top;\n",
       "    }\n",
       "\n",
       "    .dataframe thead th {\n",
       "        text-align: right;\n",
       "    }\n",
       "</style>\n",
       "<table border=\"1\" class=\"dataframe\">\n",
       "  <thead>\n",
       "    <tr style=\"text-align: right;\">\n",
       "      <th></th>\n",
       "      <th>Key</th>\n",
       "      <th>W</th>\n",
       "      <th>X</th>\n",
       "      <th>Y</th>\n",
       "      <th>Z</th>\n",
       "      <th>Numeric Key</th>\n",
       "    </tr>\n",
       "  </thead>\n",
       "  <tbody>\n",
       "    <tr>\n",
       "      <th>4153</th>\n",
       "      <td>B</td>\n",
       "      <td>102</td>\n",
       "      <td>121</td>\n",
       "      <td>114</td>\n",
       "      <td>16</td>\n",
       "      <td>1</td>\n",
       "    </tr>\n",
       "    <tr>\n",
       "      <th>355</th>\n",
       "      <td>G</td>\n",
       "      <td>54</td>\n",
       "      <td>114</td>\n",
       "      <td>43</td>\n",
       "      <td>96</td>\n",
       "      <td>6</td>\n",
       "    </tr>\n",
       "    <tr>\n",
       "      <th>534</th>\n",
       "      <td>B</td>\n",
       "      <td>58</td>\n",
       "      <td>116</td>\n",
       "      <td>47</td>\n",
       "      <td>28</td>\n",
       "      <td>1</td>\n",
       "    </tr>\n",
       "    <tr>\n",
       "      <th>2395</th>\n",
       "      <td>G</td>\n",
       "      <td>74</td>\n",
       "      <td>66</td>\n",
       "      <td>71</td>\n",
       "      <td>84</td>\n",
       "      <td>6</td>\n",
       "    </tr>\n",
       "    <tr>\n",
       "      <th>668</th>\n",
       "      <td>G</td>\n",
       "      <td>122</td>\n",
       "      <td>21</td>\n",
       "      <td>107</td>\n",
       "      <td>21</td>\n",
       "      <td>6</td>\n",
       "    </tr>\n",
       "  </tbody>\n",
       "</table>\n",
       "</div>"
      ],
      "text/plain": [
       "     Key    W    X    Y   Z  Numeric Key\n",
       "4153   B  102  121  114  16            1\n",
       "355    G   54  114   43  96            6\n",
       "534    B   58  116   47  28            1\n",
       "2395   G   74   66   71  84            6\n",
       "668    G  122   21  107  21            6"
      ]
     },
     "execution_count": 703,
     "metadata": {},
     "output_type": "execute_result"
    }
   ],
   "source": [
    "train, test = sklearn.model_selection.train_test_split(df, test_size=0.20, random_state=12)\n",
    "\n",
    "print(\"Training set size: %i\" % len(train))\n",
    "print(\"Test set size: %i\" % len(test))\n",
    "\n",
    "test.sample(5)"
   ]
  },
  {
   "cell_type": "markdown",
   "metadata": {},
   "source": [
    "### Support Vector Machine - no encoding"
   ]
  },
  {
   "cell_type": "code",
   "execution_count": 704,
   "metadata": {},
   "outputs": [
    {
     "name": "stdout",
     "output_type": "stream",
     "text": [
      "D, F#, G and A are from C (actually from D or G).\n",
      "G, B, F and C are from D (actually from C).\n",
      "F, G, A and Bb are from B (actually F or Bb).\n"
     ]
    }
   ],
   "source": [
    "X_train = train.filter(items=[\"W\", \"X\", \"Y\", \"Z\"])\n",
    "y_train = train.filter(items=[\"Numeric Key\"])\n",
    "\n",
    "from sklearn.svm import SVC\n",
    "svm_clf = SVC(gamma = 'scale')\n",
    "svm_clf.fit(X_train, y_train.values.ravel())\n",
    "\n",
    "print(\"D, F#, G and A are from %s (actually from D or G).\" % keys[svm_clf.predict([[14, 18, 19, 21]])[0]])\n",
    "print(\"G, B, F and C are from %s (actually from C).\" % keys[svm_clf.predict([[55, 71, 17, 24]])[0]])\n",
    "print(\"F, G, A and Bb are from %s (actually F or Bb).\" % keys[svm_clf.predict([[77, 79, 81, 82]])[0]])"
   ]
  },
  {
   "cell_type": "markdown",
   "metadata": {},
   "source": [
    "### One hot encoding"
   ]
  },
  {
   "cell_type": "code",
   "execution_count": 705,
   "metadata": {},
   "outputs": [
    {
     "data": {
      "text/html": [
       "<div>\n",
       "<style scoped>\n",
       "    .dataframe tbody tr th:only-of-type {\n",
       "        vertical-align: middle;\n",
       "    }\n",
       "\n",
       "    .dataframe tbody tr th {\n",
       "        vertical-align: top;\n",
       "    }\n",
       "\n",
       "    .dataframe thead th {\n",
       "        text-align: right;\n",
       "    }\n",
       "</style>\n",
       "<table border=\"1\" class=\"dataframe\">\n",
       "  <thead>\n",
       "    <tr style=\"text-align: right;\">\n",
       "      <th></th>\n",
       "      <th>0</th>\n",
       "      <th>1</th>\n",
       "      <th>2</th>\n",
       "      <th>3</th>\n",
       "      <th>4</th>\n",
       "      <th>5</th>\n",
       "      <th>6</th>\n",
       "      <th>7</th>\n",
       "      <th>8</th>\n",
       "      <th>9</th>\n",
       "      <th>...</th>\n",
       "      <th>118</th>\n",
       "      <th>119</th>\n",
       "      <th>120</th>\n",
       "      <th>121</th>\n",
       "      <th>122</th>\n",
       "      <th>123</th>\n",
       "      <th>124</th>\n",
       "      <th>125</th>\n",
       "      <th>126</th>\n",
       "      <th>127</th>\n",
       "    </tr>\n",
       "  </thead>\n",
       "  <tbody>\n",
       "    <tr>\n",
       "      <th>88</th>\n",
       "      <td>0.0</td>\n",
       "      <td>0.0</td>\n",
       "      <td>0.0</td>\n",
       "      <td>0.0</td>\n",
       "      <td>0.0</td>\n",
       "      <td>0.0</td>\n",
       "      <td>0.0</td>\n",
       "      <td>0.0</td>\n",
       "      <td>0.0</td>\n",
       "      <td>0.0</td>\n",
       "      <td>...</td>\n",
       "      <td>0.0</td>\n",
       "      <td>0.0</td>\n",
       "      <td>0.0</td>\n",
       "      <td>0.0</td>\n",
       "      <td>0.0</td>\n",
       "      <td>0.0</td>\n",
       "      <td>0.0</td>\n",
       "      <td>0.0</td>\n",
       "      <td>0.0</td>\n",
       "      <td>0.0</td>\n",
       "    </tr>\n",
       "    <tr>\n",
       "      <th>579</th>\n",
       "      <td>0.0</td>\n",
       "      <td>0.0</td>\n",
       "      <td>0.0</td>\n",
       "      <td>0.0</td>\n",
       "      <td>0.0</td>\n",
       "      <td>0.0</td>\n",
       "      <td>0.0</td>\n",
       "      <td>0.0</td>\n",
       "      <td>0.0</td>\n",
       "      <td>0.0</td>\n",
       "      <td>...</td>\n",
       "      <td>0.0</td>\n",
       "      <td>0.0</td>\n",
       "      <td>0.0</td>\n",
       "      <td>0.0</td>\n",
       "      <td>0.0</td>\n",
       "      <td>0.0</td>\n",
       "      <td>0.0</td>\n",
       "      <td>0.0</td>\n",
       "      <td>0.0</td>\n",
       "      <td>0.0</td>\n",
       "    </tr>\n",
       "    <tr>\n",
       "      <th>391</th>\n",
       "      <td>0.0</td>\n",
       "      <td>0.0</td>\n",
       "      <td>0.0</td>\n",
       "      <td>0.0</td>\n",
       "      <td>0.0</td>\n",
       "      <td>0.0</td>\n",
       "      <td>0.0</td>\n",
       "      <td>0.0</td>\n",
       "      <td>0.0</td>\n",
       "      <td>0.0</td>\n",
       "      <td>...</td>\n",
       "      <td>0.0</td>\n",
       "      <td>0.0</td>\n",
       "      <td>0.0</td>\n",
       "      <td>0.0</td>\n",
       "      <td>0.0</td>\n",
       "      <td>0.0</td>\n",
       "      <td>0.0</td>\n",
       "      <td>0.0</td>\n",
       "      <td>0.0</td>\n",
       "      <td>0.0</td>\n",
       "    </tr>\n",
       "    <tr>\n",
       "      <th>1027</th>\n",
       "      <td>0.0</td>\n",
       "      <td>0.0</td>\n",
       "      <td>0.0</td>\n",
       "      <td>0.0</td>\n",
       "      <td>0.0</td>\n",
       "      <td>0.0</td>\n",
       "      <td>0.0</td>\n",
       "      <td>0.0</td>\n",
       "      <td>0.0</td>\n",
       "      <td>0.0</td>\n",
       "      <td>...</td>\n",
       "      <td>0.0</td>\n",
       "      <td>0.0</td>\n",
       "      <td>0.0</td>\n",
       "      <td>0.0</td>\n",
       "      <td>0.0</td>\n",
       "      <td>0.0</td>\n",
       "      <td>0.0</td>\n",
       "      <td>0.0</td>\n",
       "      <td>0.0</td>\n",
       "      <td>0.0</td>\n",
       "    </tr>\n",
       "    <tr>\n",
       "      <th>2087</th>\n",
       "      <td>0.0</td>\n",
       "      <td>0.0</td>\n",
       "      <td>0.0</td>\n",
       "      <td>0.0</td>\n",
       "      <td>0.0</td>\n",
       "      <td>0.0</td>\n",
       "      <td>0.0</td>\n",
       "      <td>0.0</td>\n",
       "      <td>0.0</td>\n",
       "      <td>0.0</td>\n",
       "      <td>...</td>\n",
       "      <td>0.0</td>\n",
       "      <td>0.0</td>\n",
       "      <td>0.0</td>\n",
       "      <td>0.0</td>\n",
       "      <td>0.0</td>\n",
       "      <td>0.0</td>\n",
       "      <td>0.0</td>\n",
       "      <td>0.0</td>\n",
       "      <td>0.0</td>\n",
       "      <td>0.0</td>\n",
       "    </tr>\n",
       "  </tbody>\n",
       "</table>\n",
       "<p>5 rows × 512 columns</p>\n",
       "</div>"
      ],
      "text/plain": [
       "      0    1    2    3    4    5    6    7    8    9    ...  118  119  120  \\\n",
       "88    0.0  0.0  0.0  0.0  0.0  0.0  0.0  0.0  0.0  0.0  ...  0.0  0.0  0.0   \n",
       "579   0.0  0.0  0.0  0.0  0.0  0.0  0.0  0.0  0.0  0.0  ...  0.0  0.0  0.0   \n",
       "391   0.0  0.0  0.0  0.0  0.0  0.0  0.0  0.0  0.0  0.0  ...  0.0  0.0  0.0   \n",
       "1027  0.0  0.0  0.0  0.0  0.0  0.0  0.0  0.0  0.0  0.0  ...  0.0  0.0  0.0   \n",
       "2087  0.0  0.0  0.0  0.0  0.0  0.0  0.0  0.0  0.0  0.0  ...  0.0  0.0  0.0   \n",
       "\n",
       "      121  122  123  124  125  126  127  \n",
       "88    0.0  0.0  0.0  0.0  0.0  0.0  0.0  \n",
       "579   0.0  0.0  0.0  0.0  0.0  0.0  0.0  \n",
       "391   0.0  0.0  0.0  0.0  0.0  0.0  0.0  \n",
       "1027  0.0  0.0  0.0  0.0  0.0  0.0  0.0  \n",
       "2087  0.0  0.0  0.0  0.0  0.0  0.0  0.0  \n",
       "\n",
       "[5 rows x 512 columns]"
      ]
     },
     "execution_count": 705,
     "metadata": {},
     "output_type": "execute_result"
    }
   ],
   "source": [
    "def one_hot_midi(n):\n",
    "  dummy = numpy.zeros(128)\n",
    "  if n <= 128:\n",
    "    dummy[n-1] = 1\n",
    "  return dummy\n",
    "\n",
    "def one_hot_dataframe(f):\n",
    "    w = f['W'].map(one_hot_midi)\n",
    "    x = f['X'].map(one_hot_midi)\n",
    "    y = f['Y'].map(one_hot_midi)\n",
    "    z = f['Z'].map(one_hot_midi)\n",
    "\n",
    "    return pandas.concat([pandas.DataFrame(w.to_list()),\n",
    "                          pandas.DataFrame(x.to_list()),\n",
    "                          pandas.DataFrame(y.to_list()),\n",
    "                          pandas.DataFrame(z.to_list())], axis=1)\n",
    "\n",
    "X_train = one_hot_dataframe(train)\n",
    "\n",
    "X_train.sample(5)"
   ]
  },
  {
   "cell_type": "markdown",
   "metadata": {},
   "source": [
    "### Support Vector Machine - one hot encoding"
   ]
  },
  {
   "cell_type": "code",
   "execution_count": 706,
   "metadata": {},
   "outputs": [
    {
     "data": {
      "text/plain": [
       "SVC(C=1.0, cache_size=200, class_weight=None, coef0=0.0,\n",
       "    decision_function_shape='ovr', degree=3, gamma='scale', kernel='rbf',\n",
       "    max_iter=-1, probability=False, random_state=None, shrinking=True,\n",
       "    tol=0.001, verbose=False)"
      ]
     },
     "execution_count": 706,
     "metadata": {},
     "output_type": "execute_result"
    }
   ],
   "source": [
    "y_train = train.filter(items=[\"Numeric Key\"])\n",
    "\n",
    "from sklearn.svm import SVC\n",
    "svm_clf = SVC(gamma = 'scale')\n",
    "svm_clf.fit(X_train, y_train.values.ravel())"
   ]
  },
  {
   "cell_type": "code",
   "execution_count": 707,
   "metadata": {},
   "outputs": [
    {
     "name": "stdout",
     "output_type": "stream",
     "text": [
      "D, F#, G and A are from C (actually from D or G).\n",
      "G, B, F and C are from C (actually from C).\n",
      "F, G, A and Bb are from F (actually F or Bb).\n"
     ]
    }
   ],
   "source": [
    "def two_d_one_hot(w, x, y, z):\n",
    "    sample = numpy.concatenate([one_hot(w), one_hot(x), one_hot(y), one_hot(z)])\n",
    "    return numpy.stack([sample])\n",
    "\n",
    "print(\"D, F#, G and A are from %s (actually from D or G).\" % keys[svm_clf.predict(two_d_one_hot(14, 18, 19, 21))[0]])\n",
    "print(\"G, B, F and C are from %s (actually from C).\" % keys[svm_clf.predict(two_d_one_hot(55, 71, 17, 24))[0]])\n",
    "print(\"F, G, A and Bb are from %s (actually F or Bb).\" % keys[svm_clf.predict(two_d_one_hot(77, 79, 81, 82))[0]])"
   ]
  },
  {
   "cell_type": "markdown",
   "metadata": {},
   "source": [
    "### Neural network"
   ]
  },
  {
   "cell_type": "code",
   "execution_count": 708,
   "metadata": {},
   "outputs": [],
   "source": [
    "from tensorflow import keras\n",
    "\n",
    "entry = keras.models.Sequential([keras.layers.Dense(12, input_shape=(512,))])\n",
    "exit = keras.models.Sequential([keras.layers.Dense(7, input_shape=(12,), activation=\"sigmoid\")])\n",
    "encoder = keras.models.Sequential([entry, exit])\n",
    "\n",
    "encoder.compile(loss=\"mse\", optimizer=keras.optimizers.SGD(lr=1.5))"
   ]
  },
  {
   "cell_type": "code",
   "execution_count": 709,
   "metadata": {},
   "outputs": [
    {
     "name": "stdout",
     "output_type": "stream",
     "text": [
      "Train on 4000 samples\n",
      "Epoch 1/20\n",
      "4000/4000 [==============================] - 0s 123us/sample - loss: 0.1323\n",
      "Epoch 2/20\n",
      "4000/4000 [==============================] - 0s 35us/sample - loss: 0.1208\n",
      "Epoch 3/20\n",
      "4000/4000 [==============================] - 0s 36us/sample - loss: 0.1193\n",
      "Epoch 4/20\n",
      "4000/4000 [==============================] - 0s 35us/sample - loss: 0.1170\n",
      "Epoch 5/20\n",
      "4000/4000 [==============================] - 0s 38us/sample - loss: 0.1138\n",
      "Epoch 6/20\n",
      "4000/4000 [==============================] - 0s 38us/sample - loss: 0.1099\n",
      "Epoch 7/20\n",
      "4000/4000 [==============================] - 0s 35us/sample - loss: 0.1055\n",
      "Epoch 8/20\n",
      "4000/4000 [==============================] - 0s 35us/sample - loss: 0.1012\n",
      "Epoch 9/20\n",
      "4000/4000 [==============================] - 0s 36us/sample - loss: 0.0971\n",
      "Epoch 10/20\n",
      "4000/4000 [==============================] - 0s 35us/sample - loss: 0.0933\n",
      "Epoch 11/20\n",
      "4000/4000 [==============================] - 0s 36us/sample - loss: 0.0897\n",
      "Epoch 12/20\n",
      "4000/4000 [==============================] - 0s 37us/sample - loss: 0.0865\n",
      "Epoch 13/20\n",
      "4000/4000 [==============================] - 0s 35us/sample - loss: 0.0836\n",
      "Epoch 14/20\n",
      "4000/4000 [==============================] - 0s 36us/sample - loss: 0.0809\n",
      "Epoch 15/20\n",
      "4000/4000 [==============================] - 0s 36us/sample - loss: 0.0786\n",
      "Epoch 16/20\n",
      "4000/4000 [==============================] - 0s 36us/sample - loss: 0.0764\n",
      "Epoch 17/20\n",
      "4000/4000 [==============================] - 0s 36us/sample - loss: 0.0746\n",
      "Epoch 18/20\n",
      "4000/4000 [==============================] - 0s 37us/sample - loss: 0.0728\n",
      "Epoch 19/20\n",
      "4000/4000 [==============================] - 0s 36us/sample - loss: 0.0713\n",
      "Epoch 20/20\n",
      "4000/4000 [==============================] - 0s 36us/sample - loss: 0.0701\n"
     ]
    },
    {
     "data": {
      "image/png": "[encoded data removed]",
      "text/plain": [
       "<Figure size 432x288 with 1 Axes>"
      ]
     },
     "metadata": {
      "needs_background": "light"
     },
     "output_type": "display_data"
    }
   ],
   "source": [
    "def one_hot_key(n):\n",
    "  dummy = numpy.zeros(7)\n",
    "  if n <= 7:\n",
    "    dummy[n-1] = 1\n",
    "  return dummy\n",
    "\n",
    "hot_y_train = numpy.stack(y_train['Numeric Key'].map(one_hot_key).to_numpy())\n",
    "\n",
    "history = encoder.fit(X_train.to_numpy(), hot_y_train, epochs=20)\n",
    "\n",
    "import matplotlib.pyplot as plt\n",
    "import matplotlib as mpl\n",
    "from mpl_toolkits import mplot3d\n",
    "\n",
    "plt.plot(history.history['loss'], label='Training loss')\n",
    "plt.show()"
   ]
  },
  {
   "cell_type": "code",
   "execution_count": 710,
   "metadata": {},
   "outputs": [
    {
     "name": "stdout",
     "output_type": "stream",
     "text": [
      "\r",
      "1000/1 [================================================================================================================================================================================================================================================================================================================================================================================================================================================================================================================================================================================================================================================================================================================================================================================================================================================================================================================================================================================================================================================================================================================================================================================================================================================================================================================================================================================================================================================================================================================================================================================================================================================================================================================================================================================================================================================================================================================================================================================================================================================================================================================================================================================================================================================================================================================================================================================================================================================================================================================================================================================================================================================================================================================================================================================================================================================================================================================================================================================================================================================================================================================================================================================================================================================================================================================================================================================================================================================================================================================================================================================================================================================================================================================================================================================================================================================================================================================================================================================================================================================================================================================================================================================================================================================================================================================================================================================================================================================================================================================================================================================================================================================================================================================================================================================================================================================================================================================================================================================================================================================================================================================================================================================================================================================================================================================================================================================================================================================================================================================================================================================================================================================================================================================================================================================================================================================================================================================================================================================================================================================================================================================================================================================================================================================================================================================================================================================================================================================================================================================================================================================================================================================================================================================================================================================================================================================================================================================================================================================================================================================================================================================================================================================================================================================================================================================================================================================================================================================================================================================================================================================================================================================================================================================================================================================================================================================================================================================================================================================================================================================================================================================================================================================================================================================================================================================================================================================================================================================================================================================================================================================================================================================================================================================================================================================================================================================================================================================================================================================================================================================================================================================================================================================================================================================================================================================================================================================================================================================================================================================================================================================================================================================================================================================================================================================================================================================================================================================================================================================================================================================================================================================================================================================================================================================================================================================================================================================================================================================================================================================================================================================================================================================================================================================================================================================================================================================================================================================================================================================================================================================================================================================================================================================================================================================================================================================================================================================================================================================================================================================================================================================================================================================================================================================================================================================================================================================================================================================================================================================================================================================================================================================================================================================================================================================================================================================================================================================================================================================================================================================================================================================================================================================================================================================================================================================================================================================================================================================================================================================================================================================================================================================================================================================================================================================================================================================================================================================================================================================================================================================================================================================================================================================================================================================================================================================================================================================================================================================================================================================================================================================================================================================================================================================================================================================================================================================================================================================================================================================================================================================================================================================================================================================================================================================================================================================================================================================================================================================================================================================================================================================================================================================================================================================================================================================================================================================================================================================================================================================================================================================================================================================================================================================================================================================================================================================================================================================================================================================================================================================================================================================================================================================================================================================================================================================================================================================================================================================================================================================================================================================================================================================================================================================================================================================================================================================================================================================================================================================================================================================================================================================================================================================================================================================================================================================================================================================================================================================================================================================================================================================================================================================================================================================================================================================================================================================================================================================================================================================================================================================================================================================================================================================================================================================================================================================================================================================================================================================================================================================================================================================================================================================================================================================================================================================================================================================================================================================================================================================================================================================================================================================================================================================================================================================================================================================================================================================================================================================================================================================================================================================================================================================================================================================================================================================================================================================================================================================================================================================================================================================================================================================================================================================================================================================================================================================================================================================================================================================================================================================================================================================================================================================================================================================================================================================================================================================================================================================================================================================================================================================================================================================================================================================================================================================================================================================================================================================================================================================================================================================================================================================================================================================================================================================================================================================================================================================================================================================================================================================================================================================================================================================================================================================================================================================================================================================================================================================================================================================================================================================================================================================================================================================================================================================================================================================================================================================================================================================================================================================================================================================================================================================================================================================================================================================================================================================================================================================================================================================================================================================================================================================================================================================================================================================================================================================================================================================================================================================================================================================================================================================================================================================================================================================================================================================================================================================================================================================================================================================================================================================================================================================================================================================================================================================================================================================================================================================================================================================================================================================================================================================================================================================================================================================================================================================================================================================================================================================================================================================================================================================================================================================================================================================================================================================================================================================================================================================================================================================================================================================================================================================================================================================================================================================================================================================================================================================================================================================================================================================================================================================================================================================================================================================================================================================================================================================================================================================================================================================================================================================================================================================================================================================================================================================================================================================================================================================================================================================================================================================================================================================================================================================================================================================================================================================================================================================================================================================================================================================================================================================================================================================================================================================================================================================================================================================================================================================================================================================================================================================================================================================================================================================================================================================================================================================================================================================================================================================================================================================================================================================================================================================================================================================================================================================================================================================================================================================================================================================================================================================================================================================================================================================================================================================================================================================================================================================================================================================================================================================================================================================================================================================================================================================================================================================================================================================================================================================================================================================================================================================================================================================================================================================================================================================================================================================================================================================================================================================================================================================================================================================================================================================================================================================================================================================================================================================================================================================] - 0s 77us/sample - loss: 0.0746\n"
     ]
    },
    {
     "data": {
      "text/plain": [
       "0.08935022336244583"
      ]
     },
     "execution_count": 710,
     "metadata": {},
     "output_type": "execute_result"
    }
   ],
   "source": [
    "y_test = test.filter(items=[\"Numeric Key\"])\n",
    "hot_y_test = numpy.stack(y_test['Numeric Key'].map(one_hot_key).to_numpy())\n",
    "\n",
    "X_test = one_hot_dataframe(test)\n",
    "\n",
    "encoder.evaluate(X_test.to_numpy(), hot_y_test)"
   ]
  },
  {
   "cell_type": "code",
   "execution_count": 711,
   "metadata": {},
   "outputs": [
    {
     "name": "stdout",
     "output_type": "stream",
     "text": [
      "D, F#, G and A are from C (actually from D or G).\n"
     ]
    },
    {
     "data": {
      "text/plain": [
       "array([[0.00109074, 0.19032206, 0.33909714, 0.08203333, 0.1245127 ,\n",
       "        0.24927615, 0.06333758]], dtype=float32)"
      ]
     },
     "execution_count": 711,
     "metadata": {},
     "output_type": "execute_result"
    }
   ],
   "source": [
    "prediction = encoder.predict(two_d_one_hot(14, 18, 19, 21))\n",
    "print(\"D, F#, G and A are from %s (actually from D or G).\" % keys[numpy.argmax(prediction)])\n",
    "prediction"
   ]
  },
  {
   "cell_type": "code",
   "execution_count": 712,
   "metadata": {},
   "outputs": [
    {
     "name": "stdout",
     "output_type": "stream",
     "text": [
      "G, B, F and C are from B (actually from C).\n"
     ]
    },
    {
     "data": {
      "text/plain": [
       "array([[0.00771349, 0.5088662 , 0.10904049, 0.00929825, 0.2800678 ,\n",
       "        0.15893763, 0.02936301]], dtype=float32)"
      ]
     },
     "execution_count": 712,
     "metadata": {},
     "output_type": "execute_result"
    }
   ],
   "source": [
    "prediction = encoder.predict(two_d_one_hot(55, 71, 17, 24))\n",
    "print(\"G, B, F and C are from %s (actually from C).\" % keys[numpy.argmax(prediction)])\n",
    "prediction"
   ]
  },
  {
   "cell_type": "code",
   "execution_count": 713,
   "metadata": {},
   "outputs": [
    {
     "name": "stdout",
     "output_type": "stream",
     "text": [
      "C#, E, A and G# are from G (actually A or E).\n"
     ]
    },
    {
     "data": {
      "text/plain": [
       "array([[0.1121053 , 0.02500179, 0.21167442, 0.10608918, 0.01444825,\n",
       "        0.04226344, 0.32731023]], dtype=float32)"
      ]
     },
     "execution_count": 713,
     "metadata": {},
     "output_type": "execute_result"
    }
   ],
   "source": [
    "prediction = encoder.predict(two_d_one_hot(73, 28, 81, 80))\n",
    "print(\"C#, E, A and G# are from %s (actually A or E).\" % keys[numpy.argmax(prediction)])\n",
    "prediction"
   ]
  },
  {
   "cell_type": "code",
   "execution_count": 714,
   "metadata": {},
   "outputs": [
    {
     "name": "stdout",
     "output_type": "stream",
     "text": [
      "C#, D, E and A are from G (actually A or D).\n"
     ]
    },
    {
     "data": {
      "text/plain": [
       "array([[0.07384681, 0.0075894 , 0.08633572, 0.34132546, 0.00665493,\n",
       "        0.04095157, 0.5298312 ]], dtype=float32)"
      ]
     },
     "execution_count": 714,
     "metadata": {},
     "output_type": "execute_result"
    }
   ],
   "source": [
    "prediction = encoder.predict(two_d_one_hot(13, 122, 104, 33))\n",
    "print(\"C#, D, E and A are from %s (actually A or D).\" % keys[numpy.argmax(prediction)])\n",
    "prediction"
   ]
  }
 ],
 "metadata": {
  "kernelspec": {
   "display_name": ".venv",
   "language": "python",
   "name": ".venv"
  },
  "language_info": {
   "codemirror_mode": {
    "name": "ipython",
    "version": 3
   },
   "file_extension": ".py",
   "mimetype": "text/x-python",
   "name": "python",
   "nbconvert_exporter": "python",
   "pygments_lexer": "ipython3",
   "version": "3.7.4"
  }
 },
 "nbformat": 4,
 "nbformat_minor": 2
}
