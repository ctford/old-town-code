{
 "cells": [
  {
   "cell_type": "markdown",
   "metadata": {},
   "source": [
    "# Old town code"
   ]
  },
  {
   "cell_type": "markdown",
   "metadata": {},
   "source": [
    "## Raw midi"
   ]
  },
  {
   "cell_type": "markdown",
   "metadata": {},
   "source": [
    "### Import"
   ]
  },
  {
   "cell_type": "code",
   "execution_count": 802,
   "metadata": {},
   "outputs": [],
   "source": [
    "import pandas\n",
    "import sklearn\n",
    "import numpy\n",
    "from sklearn import model_selection\n",
    "from sklearn import linear_model"
   ]
  },
  {
   "cell_type": "markdown",
   "metadata": {},
   "source": [
    "### Load data"
   ]
  },
  {
   "cell_type": "code",
   "execution_count": 803,
   "metadata": {},
   "outputs": [
    {
     "data": {
      "text/html": [
       "<div>\n",
       "<style scoped>\n",
       "    .dataframe tbody tr th:only-of-type {\n",
       "        vertical-align: middle;\n",
       "    }\n",
       "\n",
       "    .dataframe tbody tr th {\n",
       "        vertical-align: top;\n",
       "    }\n",
       "\n",
       "    .dataframe thead th {\n",
       "        text-align: right;\n",
       "    }\n",
       "</style>\n",
       "<table border=\"1\" class=\"dataframe\">\n",
       "  <thead>\n",
       "    <tr style=\"text-align: right;\">\n",
       "      <th></th>\n",
       "      <th>Key</th>\n",
       "      <th>W</th>\n",
       "      <th>X</th>\n",
       "      <th>Y</th>\n",
       "      <th>Z</th>\n",
       "      <th>Numeric Key</th>\n",
       "    </tr>\n",
       "  </thead>\n",
       "  <tbody>\n",
       "    <tr>\n",
       "      <th>604</th>\n",
       "      <td>F</td>\n",
       "      <td>16</td>\n",
       "      <td>79</td>\n",
       "      <td>22</td>\n",
       "      <td>36</td>\n",
       "      <td>5</td>\n",
       "    </tr>\n",
       "    <tr>\n",
       "      <th>4807</th>\n",
       "      <td>E</td>\n",
       "      <td>33</td>\n",
       "      <td>52</td>\n",
       "      <td>47</td>\n",
       "      <td>52</td>\n",
       "      <td>4</td>\n",
       "    </tr>\n",
       "    <tr>\n",
       "      <th>552</th>\n",
       "      <td>F</td>\n",
       "      <td>105</td>\n",
       "      <td>45</td>\n",
       "      <td>89</td>\n",
       "      <td>117</td>\n",
       "      <td>5</td>\n",
       "    </tr>\n",
       "    <tr>\n",
       "      <th>646</th>\n",
       "      <td>B</td>\n",
       "      <td>75</td>\n",
       "      <td>119</td>\n",
       "      <td>109</td>\n",
       "      <td>88</td>\n",
       "      <td>1</td>\n",
       "    </tr>\n",
       "    <tr>\n",
       "      <th>1558</th>\n",
       "      <td>B</td>\n",
       "      <td>52</td>\n",
       "      <td>100</td>\n",
       "      <td>20</td>\n",
       "      <td>13</td>\n",
       "      <td>1</td>\n",
       "    </tr>\n",
       "  </tbody>\n",
       "</table>\n",
       "</div>"
      ],
      "text/plain": [
       "     Key    W    X    Y    Z  Numeric Key\n",
       "604    F   16   79   22   36            5\n",
       "4807   E   33   52   47   52            4\n",
       "552    F  105   45   89  117            5\n",
       "646    B   75  119  109   88            1\n",
       "1558   B   52  100   20   13            1"
      ]
     },
     "execution_count": 803,
     "metadata": {},
     "output_type": "execute_result"
    }
   ],
   "source": [
    "df = pandas.read_csv(\"samples.csv\")\n",
    "keys = ['A', 'B', 'C', 'D', 'E', 'F', 'G']\n",
    "df['Numeric Key'] = df['Key'].map(lambda k : keys.index(k))\n",
    "df.sample(n=5)"
   ]
  },
  {
   "cell_type": "markdown",
   "metadata": {},
   "source": [
    "### Split into training and test sets"
   ]
  },
  {
   "cell_type": "code",
   "execution_count": 804,
   "metadata": {},
   "outputs": [
    {
     "name": "stdout",
     "output_type": "stream",
     "text": [
      "Training set size: 4000\n",
      "Test set size: 1000\n"
     ]
    },
    {
     "data": {
      "text/html": [
       "<div>\n",
       "<style scoped>\n",
       "    .dataframe tbody tr th:only-of-type {\n",
       "        vertical-align: middle;\n",
       "    }\n",
       "\n",
       "    .dataframe tbody tr th {\n",
       "        vertical-align: top;\n",
       "    }\n",
       "\n",
       "    .dataframe thead th {\n",
       "        text-align: right;\n",
       "    }\n",
       "</style>\n",
       "<table border=\"1\" class=\"dataframe\">\n",
       "  <thead>\n",
       "    <tr style=\"text-align: right;\">\n",
       "      <th></th>\n",
       "      <th>Key</th>\n",
       "      <th>W</th>\n",
       "      <th>X</th>\n",
       "      <th>Y</th>\n",
       "      <th>Z</th>\n",
       "      <th>Numeric Key</th>\n",
       "    </tr>\n",
       "  </thead>\n",
       "  <tbody>\n",
       "    <tr>\n",
       "      <th>4696</th>\n",
       "      <td>D</td>\n",
       "      <td>100</td>\n",
       "      <td>74</td>\n",
       "      <td>61</td>\n",
       "      <td>28</td>\n",
       "      <td>3</td>\n",
       "    </tr>\n",
       "    <tr>\n",
       "      <th>2943</th>\n",
       "      <td>G</td>\n",
       "      <td>28</td>\n",
       "      <td>124</td>\n",
       "      <td>78</td>\n",
       "      <td>47</td>\n",
       "      <td>6</td>\n",
       "    </tr>\n",
       "    <tr>\n",
       "      <th>479</th>\n",
       "      <td>B</td>\n",
       "      <td>44</td>\n",
       "      <td>102</td>\n",
       "      <td>70</td>\n",
       "      <td>76</td>\n",
       "      <td>1</td>\n",
       "    </tr>\n",
       "    <tr>\n",
       "      <th>821</th>\n",
       "      <td>F</td>\n",
       "      <td>74</td>\n",
       "      <td>96</td>\n",
       "      <td>26</td>\n",
       "      <td>118</td>\n",
       "      <td>5</td>\n",
       "    </tr>\n",
       "    <tr>\n",
       "      <th>3178</th>\n",
       "      <td>E</td>\n",
       "      <td>107</td>\n",
       "      <td>35</td>\n",
       "      <td>16</td>\n",
       "      <td>18</td>\n",
       "      <td>4</td>\n",
       "    </tr>\n",
       "  </tbody>\n",
       "</table>\n",
       "</div>"
      ],
      "text/plain": [
       "     Key    W    X   Y    Z  Numeric Key\n",
       "4696   D  100   74  61   28            3\n",
       "2943   G   28  124  78   47            6\n",
       "479    B   44  102  70   76            1\n",
       "821    F   74   96  26  118            5\n",
       "3178   E  107   35  16   18            4"
      ]
     },
     "execution_count": 804,
     "metadata": {},
     "output_type": "execute_result"
    }
   ],
   "source": [
    "train, test = sklearn.model_selection.train_test_split(df, test_size=0.20, random_state=12)\n",
    "\n",
    "print(\"Training set size: %i\" % len(train))\n",
    "print(\"Test set size: %i\" % len(test))\n",
    "\n",
    "test.sample(5)"
   ]
  },
  {
   "cell_type": "markdown",
   "metadata": {},
   "source": [
    "### Support Vector Machine - no encoding"
   ]
  },
  {
   "cell_type": "code",
   "execution_count": 805,
   "metadata": {},
   "outputs": [
    {
     "name": "stdout",
     "output_type": "stream",
     "text": [
      "D, F#, G and A are from C (actually from D or G).\n",
      "G, B, F and C are from D (actually from C).\n",
      "F, G, A and Bb are from B (actually F or Bb).\n"
     ]
    }
   ],
   "source": [
    "X_train = train.filter(items=[\"W\", \"X\", \"Y\", \"Z\"])\n",
    "y_train = train.filter(items=[\"Numeric Key\"])\n",
    "\n",
    "from sklearn.svm import SVC\n",
    "svm_clf = SVC(gamma = 'scale')\n",
    "svm_clf.fit(X_train, y_train.values.ravel())\n",
    "\n",
    "print(\"D, F#, G and A are from %s (actually from D or G).\" % keys[svm_clf.predict([[14, 18, 19, 21]])[0]])\n",
    "print(\"G, B, F and C are from %s (actually from C).\" % keys[svm_clf.predict([[55, 71, 17, 24]])[0]])\n",
    "print(\"F, G, A and Bb are from %s (actually F or Bb).\" % keys[svm_clf.predict([[77, 79, 81, 82]])[0]])"
   ]
  },
  {
   "cell_type": "markdown",
   "metadata": {},
   "source": [
    "### One hot encoding"
   ]
  },
  {
   "cell_type": "code",
   "execution_count": 806,
   "metadata": {},
   "outputs": [
    {
     "data": {
      "text/html": [
       "<div>\n",
       "<style scoped>\n",
       "    .dataframe tbody tr th:only-of-type {\n",
       "        vertical-align: middle;\n",
       "    }\n",
       "\n",
       "    .dataframe tbody tr th {\n",
       "        vertical-align: top;\n",
       "    }\n",
       "\n",
       "    .dataframe thead th {\n",
       "        text-align: right;\n",
       "    }\n",
       "</style>\n",
       "<table border=\"1\" class=\"dataframe\">\n",
       "  <thead>\n",
       "    <tr style=\"text-align: right;\">\n",
       "      <th></th>\n",
       "      <th>0</th>\n",
       "      <th>1</th>\n",
       "      <th>2</th>\n",
       "      <th>3</th>\n",
       "      <th>4</th>\n",
       "      <th>5</th>\n",
       "      <th>6</th>\n",
       "      <th>7</th>\n",
       "      <th>8</th>\n",
       "      <th>9</th>\n",
       "      <th>...</th>\n",
       "      <th>118</th>\n",
       "      <th>119</th>\n",
       "      <th>120</th>\n",
       "      <th>121</th>\n",
       "      <th>122</th>\n",
       "      <th>123</th>\n",
       "      <th>124</th>\n",
       "      <th>125</th>\n",
       "      <th>126</th>\n",
       "      <th>127</th>\n",
       "    </tr>\n",
       "  </thead>\n",
       "  <tbody>\n",
       "    <tr>\n",
       "      <th>2153</th>\n",
       "      <td>0.0</td>\n",
       "      <td>0.0</td>\n",
       "      <td>0.0</td>\n",
       "      <td>0.0</td>\n",
       "      <td>0.0</td>\n",
       "      <td>0.0</td>\n",
       "      <td>0.0</td>\n",
       "      <td>0.0</td>\n",
       "      <td>0.0</td>\n",
       "      <td>0.0</td>\n",
       "      <td>...</td>\n",
       "      <td>0.0</td>\n",
       "      <td>0.0</td>\n",
       "      <td>0.0</td>\n",
       "      <td>0.0</td>\n",
       "      <td>0.0</td>\n",
       "      <td>0.0</td>\n",
       "      <td>0.0</td>\n",
       "      <td>0.0</td>\n",
       "      <td>0.0</td>\n",
       "      <td>0.0</td>\n",
       "    </tr>\n",
       "    <tr>\n",
       "      <th>2472</th>\n",
       "      <td>0.0</td>\n",
       "      <td>0.0</td>\n",
       "      <td>0.0</td>\n",
       "      <td>0.0</td>\n",
       "      <td>0.0</td>\n",
       "      <td>0.0</td>\n",
       "      <td>0.0</td>\n",
       "      <td>0.0</td>\n",
       "      <td>0.0</td>\n",
       "      <td>0.0</td>\n",
       "      <td>...</td>\n",
       "      <td>0.0</td>\n",
       "      <td>0.0</td>\n",
       "      <td>0.0</td>\n",
       "      <td>0.0</td>\n",
       "      <td>0.0</td>\n",
       "      <td>0.0</td>\n",
       "      <td>0.0</td>\n",
       "      <td>0.0</td>\n",
       "      <td>0.0</td>\n",
       "      <td>0.0</td>\n",
       "    </tr>\n",
       "    <tr>\n",
       "      <th>58</th>\n",
       "      <td>0.0</td>\n",
       "      <td>0.0</td>\n",
       "      <td>0.0</td>\n",
       "      <td>0.0</td>\n",
       "      <td>0.0</td>\n",
       "      <td>0.0</td>\n",
       "      <td>0.0</td>\n",
       "      <td>0.0</td>\n",
       "      <td>0.0</td>\n",
       "      <td>0.0</td>\n",
       "      <td>...</td>\n",
       "      <td>0.0</td>\n",
       "      <td>0.0</td>\n",
       "      <td>0.0</td>\n",
       "      <td>0.0</td>\n",
       "      <td>0.0</td>\n",
       "      <td>0.0</td>\n",
       "      <td>0.0</td>\n",
       "      <td>0.0</td>\n",
       "      <td>0.0</td>\n",
       "      <td>0.0</td>\n",
       "    </tr>\n",
       "    <tr>\n",
       "      <th>2602</th>\n",
       "      <td>0.0</td>\n",
       "      <td>0.0</td>\n",
       "      <td>0.0</td>\n",
       "      <td>0.0</td>\n",
       "      <td>0.0</td>\n",
       "      <td>0.0</td>\n",
       "      <td>0.0</td>\n",
       "      <td>0.0</td>\n",
       "      <td>0.0</td>\n",
       "      <td>0.0</td>\n",
       "      <td>...</td>\n",
       "      <td>0.0</td>\n",
       "      <td>0.0</td>\n",
       "      <td>0.0</td>\n",
       "      <td>0.0</td>\n",
       "      <td>0.0</td>\n",
       "      <td>0.0</td>\n",
       "      <td>0.0</td>\n",
       "      <td>0.0</td>\n",
       "      <td>0.0</td>\n",
       "      <td>0.0</td>\n",
       "    </tr>\n",
       "    <tr>\n",
       "      <th>547</th>\n",
       "      <td>0.0</td>\n",
       "      <td>0.0</td>\n",
       "      <td>0.0</td>\n",
       "      <td>0.0</td>\n",
       "      <td>0.0</td>\n",
       "      <td>0.0</td>\n",
       "      <td>0.0</td>\n",
       "      <td>0.0</td>\n",
       "      <td>0.0</td>\n",
       "      <td>0.0</td>\n",
       "      <td>...</td>\n",
       "      <td>0.0</td>\n",
       "      <td>0.0</td>\n",
       "      <td>0.0</td>\n",
       "      <td>0.0</td>\n",
       "      <td>0.0</td>\n",
       "      <td>0.0</td>\n",
       "      <td>0.0</td>\n",
       "      <td>0.0</td>\n",
       "      <td>0.0</td>\n",
       "      <td>0.0</td>\n",
       "    </tr>\n",
       "  </tbody>\n",
       "</table>\n",
       "<p>5 rows × 512 columns</p>\n",
       "</div>"
      ],
      "text/plain": [
       "      0    1    2    3    4    5    6    7    8    9    ...  118  119  120  \\\n",
       "2153  0.0  0.0  0.0  0.0  0.0  0.0  0.0  0.0  0.0  0.0  ...  0.0  0.0  0.0   \n",
       "2472  0.0  0.0  0.0  0.0  0.0  0.0  0.0  0.0  0.0  0.0  ...  0.0  0.0  0.0   \n",
       "58    0.0  0.0  0.0  0.0  0.0  0.0  0.0  0.0  0.0  0.0  ...  0.0  0.0  0.0   \n",
       "2602  0.0  0.0  0.0  0.0  0.0  0.0  0.0  0.0  0.0  0.0  ...  0.0  0.0  0.0   \n",
       "547   0.0  0.0  0.0  0.0  0.0  0.0  0.0  0.0  0.0  0.0  ...  0.0  0.0  0.0   \n",
       "\n",
       "      121  122  123  124  125  126  127  \n",
       "2153  0.0  0.0  0.0  0.0  0.0  0.0  0.0  \n",
       "2472  0.0  0.0  0.0  0.0  0.0  0.0  0.0  \n",
       "58    0.0  0.0  0.0  0.0  0.0  0.0  0.0  \n",
       "2602  0.0  0.0  0.0  0.0  0.0  0.0  0.0  \n",
       "547   0.0  0.0  0.0  0.0  0.0  0.0  0.0  \n",
       "\n",
       "[5 rows x 512 columns]"
      ]
     },
     "execution_count": 806,
     "metadata": {},
     "output_type": "execute_result"
    }
   ],
   "source": [
    "def one_hot_midi(n):\n",
    "  dummy = numpy.zeros(128)\n",
    "  if n <= 128:\n",
    "    dummy[n-1] = 1\n",
    "  return dummy\n",
    "\n",
    "def one_hot_dataframe(f):\n",
    "    w = f['W'].map(one_hot_midi)\n",
    "    x = f['X'].map(one_hot_midi)\n",
    "    y = f['Y'].map(one_hot_midi)\n",
    "    z = f['Z'].map(one_hot_midi)\n",
    "\n",
    "    return pandas.concat([pandas.DataFrame(w.to_list()),\n",
    "                          pandas.DataFrame(x.to_list()),\n",
    "                          pandas.DataFrame(y.to_list()),\n",
    "                          pandas.DataFrame(z.to_list())], axis=1)\n",
    "\n",
    "X_train = one_hot_dataframe(train)\n",
    "\n",
    "X_train.sample(5)"
   ]
  },
  {
   "cell_type": "markdown",
   "metadata": {},
   "source": [
    "### Support Vector Machine - one hot encoding"
   ]
  },
  {
   "cell_type": "code",
   "execution_count": 807,
   "metadata": {},
   "outputs": [
    {
     "data": {
      "text/plain": [
       "SVC(C=1.0, cache_size=200, class_weight=None, coef0=0.0,\n",
       "    decision_function_shape='ovr', degree=3, gamma='scale', kernel='rbf',\n",
       "    max_iter=-1, probability=False, random_state=None, shrinking=True,\n",
       "    tol=0.001, verbose=False)"
      ]
     },
     "execution_count": 807,
     "metadata": {},
     "output_type": "execute_result"
    }
   ],
   "source": [
    "y_train = train.filter(items=[\"Numeric Key\"])\n",
    "\n",
    "from sklearn.svm import SVC\n",
    "svm_clf = SVC(gamma = 'scale')\n",
    "svm_clf.fit(X_train, y_train.values.ravel())"
   ]
  },
  {
   "cell_type": "code",
   "execution_count": 808,
   "metadata": {},
   "outputs": [
    {
     "name": "stdout",
     "output_type": "stream",
     "text": [
      "D, F#, G and A are from C (actually from D or G).\n",
      "G, B, F and C are from C (actually from C).\n",
      "F, G, A and Bb are from F (actually F or Bb).\n"
     ]
    }
   ],
   "source": [
    "def two_d_one_hot(w, x, y, z):\n",
    "    sample = numpy.concatenate([one_hot(w), one_hot(x), one_hot(y), one_hot(z)])\n",
    "    return numpy.stack([sample])\n",
    "\n",
    "print(\"D, F#, G and A are from %s (actually from D or G).\" % keys[svm_clf.predict(two_d_one_hot(14, 18, 19, 21))[0]])\n",
    "print(\"G, B, F and C are from %s (actually from C).\" % keys[svm_clf.predict(two_d_one_hot(55, 71, 17, 24))[0]])\n",
    "print(\"F, G, A and Bb are from %s (actually F or Bb).\" % keys[svm_clf.predict(two_d_one_hot(77, 79, 81, 82))[0]])"
   ]
  },
  {
   "cell_type": "markdown",
   "metadata": {},
   "source": [
    "### Neural network"
   ]
  },
  {
   "cell_type": "code",
   "execution_count": 809,
   "metadata": {},
   "outputs": [],
   "source": [
    "from tensorflow import keras\n",
    "\n",
    "entry = keras.models.Sequential([keras.layers.Dense(12, input_shape=(512,))])\n",
    "exit = keras.models.Sequential([keras.layers.Dense(7, input_shape=(12,), activation=\"sigmoid\")])\n",
    "encoder = keras.models.Sequential([entry, exit])\n",
    "\n",
    "encoder.compile(loss=\"mse\", optimizer=keras.optimizers.SGD(lr=1.5))"
   ]
  },
  {
   "cell_type": "code",
   "execution_count": 810,
   "metadata": {},
   "outputs": [
    {
     "name": "stdout",
     "output_type": "stream",
     "text": [
      "Train on 4000 samples\n",
      "Epoch 1/20\n",
      "4000/4000 [==============================] - 0s 80us/sample - loss: 0.1312\n",
      "Epoch 2/20\n",
      "4000/4000 [==============================] - 0s 35us/sample - loss: 0.1212\n",
      "Epoch 3/20\n",
      "4000/4000 [==============================] - 0s 36us/sample - loss: 0.1199\n",
      "Epoch 4/20\n",
      "4000/4000 [==============================] - 0s 37us/sample - loss: 0.1182\n",
      "Epoch 5/20\n",
      "4000/4000 [==============================] - 0s 35us/sample - loss: 0.1155\n",
      "Epoch 6/20\n",
      "4000/4000 [==============================] - 0s 35us/sample - loss: 0.1121\n",
      "Epoch 7/20\n",
      "4000/4000 [==============================] - 0s 38us/sample - loss: 0.1082\n",
      "Epoch 8/20\n",
      "4000/4000 [==============================] - 0s 36us/sample - loss: 0.1042\n",
      "Epoch 9/20\n",
      "4000/4000 [==============================] - 0s 35us/sample - loss: 0.1004\n",
      "Epoch 10/20\n",
      "4000/4000 [==============================] - 0s 35us/sample - loss: 0.0968\n",
      "Epoch 11/20\n",
      "4000/4000 [==============================] - 0s 36us/sample - loss: 0.0932\n",
      "Epoch 12/20\n",
      "4000/4000 [==============================] - 0s 37us/sample - loss: 0.0898\n",
      "Epoch 13/20\n",
      "4000/4000 [==============================] - 0s 35us/sample - loss: 0.0867\n",
      "Epoch 14/20\n",
      "4000/4000 [==============================] - 0s 36us/sample - loss: 0.0839\n",
      "Epoch 15/20\n",
      "4000/4000 [==============================] - 0s 36us/sample - loss: 0.0814\n",
      "Epoch 16/20\n",
      "4000/4000 [==============================] - 0s 35us/sample - loss: 0.0789\n",
      "Epoch 17/20\n",
      "4000/4000 [==============================] - 0s 36us/sample - loss: 0.0769\n",
      "Epoch 18/20\n",
      "4000/4000 [==============================] - 0s 37us/sample - loss: 0.0748\n",
      "Epoch 19/20\n",
      "4000/4000 [==============================] - 0s 37us/sample - loss: 0.0731\n",
      "Epoch 20/20\n",
      "4000/4000 [==============================] - 0s 36us/sample - loss: 0.0714\n"
     ]
    },
    {
     "data": {
      "image/png": "[encoded data removed]",
      "text/plain": [
       "<Figure size 432x288 with 1 Axes>"
      ]
     },
     "metadata": {
      "needs_background": "light"
     },
     "output_type": "display_data"
    }
   ],
   "source": [
    "def one_hot_key(n):\n",
    "  dummy = numpy.zeros(7)\n",
    "  if n <= 7:\n",
    "    dummy[n] = 1\n",
    "  return dummy\n",
    "\n",
    "hot_y_train = numpy.stack(y_train['Numeric Key'].map(one_hot_key).to_numpy())\n",
    "\n",
    "history = encoder.fit(X_train.to_numpy(), hot_y_train, epochs=20)\n",
    "\n",
    "import matplotlib.pyplot as plt\n",
    "import matplotlib as mpl\n",
    "from mpl_toolkits import mplot3d\n",
    "\n",
    "plt.plot(history.history['loss'], label='Training loss')\n",
    "plt.show()"
   ]
  },
  {
   "cell_type": "code",
   "execution_count": 811,
   "metadata": {},
   "outputs": [
    {
     "name": "stdout",
     "output_type": "stream",
     "text": [
      "\r",
      "1000/1 [================================================================================================================================================================================================================================================================================================================================================================================================================================================================================================================================================================================================================================================================================================================================================================================================================================================================================================================================================================================================================================================================================================================================================================================================================================================================================================================================================================================================================================================================================================================================================================================================================================================================================================================================================================================================================================================================================================================================================================================================================================================================================================================================================================================================================================================================================================================================================================================================================================================================================================================================================================================================================================================================================================================================================================================================================================================================================================================================================================================================================================================================================================================================================================================================================================================================================================================================================================================================================================================================================================================================================================================================================================================================================================================================================================================================================================================================================================================================================================================================================================================================================================================================================================================================================================================================================================================================================================================================================================================================================================================================================================================================================================================================================================================================================================================================================================================================================================================================================================================================================================================================================================================================================================================================================================================================================================================================================================================================================================================================================================================================================================================================================================================================================================================================================================================================================================================================================================================================================================================================================================================================================================================================================================================================================================================================================================================================================================================================================================================================================================================================================================================================================================================================================================================================================================================================================================================================================================================================================================================================================================================================================================================================================================================================================================================================================================================================================================================================================================================================================================================================================================================================================================================================================================================================================================================================================================================================================================================================================================================================================================================================================================================================================================================================================================================================================================================================================================================================================================================================================================================================================================================================================================================================================================================================================================================================================================================================================================================================================================================================================================================================================================================================================================================================================================================================================================================================================================================================================================================================================================================================================================================================================================================================================================================================================================================================================================================================================================================================================================================================================================================================================================================================================================================================================================================================================================================================================================================================================================================================================================================================================================================================================================================================================================================================================================================================================================================================================================================================================================================================================================================================================================================================================================================================================================================================================================================================================================================================================================================================================================================================================================================================================================================================================================================================================================================================================================================================================================================================================================================================================================================================================================================================================================================================================================================================================================================================================================================================================================================================================================================================================================================================================================================================================================================================================================================================================================================================================================================================================================================================================================================================================================================================================================================================================================================================================================================================================================================================================================================================================================================================================================================================================================================================================================================================================================================================================================================================================================================================================================================================================================================================================================================================================================================================================================================================================================================================================================================================================================================================================================================================================================================================================================================================================================================================================================================================================================================================================================================================================================================================================================================================================================================================================================================================================================================================================================================================================================================================================================================================================================================================================================================================================================================================================================================================================================================================================================================================================================================================================================================================================================================================================================================================================================================================================================================================================================================================================================================================================================================================================================================================================================================================================================================================================================================================================================================================================================================================================================================================================================================================================================================================================================================================================================================================================================================================================================================================================================================================================================================================================================================================================================================================================================================================================================================================================================================================================================================================================================================================================================================================================================================================================================================================================================================================================================================================================================================================================================================================================================================================================================================================================================================================================================================================================================================================================================================================================================================================================================================================================================================================================================================================================================================================================================================================================================================================================================================================================================================================================================================================================================================================================================================================================================================================================================================================================================================================================================================================================================================================================================================================================================================================================================================================================================================================================================================================================================================================================================================================================================================================================================================================================================================================================================================================================================================================================================================================================================================================================================================================================================================================================================================================================================================================================================================================================================================================================================================================================================================================================================================================================================================================================================================================================================================================================================================================================================================================================================================================================================================================================================================================================================================================================================================================================================================================================================================================================================================================================================================================================================================================================================================================================================================================================================================================================================================================================================================================================================================================================================================================================================================================================================================================================================================================================================================================================================================================================================================================================================================================================================================================================================================================================================================================================================================================================================================================================================================================================================================================================================================================================================================================================================================================================================================================================================================================================================================================================================================================================================================================================================================================================================================================================================================================================================================================================================================================================================================================================================================================================================================================================================================================================================================================================================================================================================================================================================================================================================================================================================================================================================================================================================================================================================================================================================================================================================================================================================================================================================================================================================================================================================================================================================================================================================================================================================================================================================================================================================================================================================================================================================================================================================================================================================================================================================================================================================================================================================================================================================================================================================================================================================================================================================================================================================================================================================================================================================================================================================================================================================================================================================================================================================================================================================================================================================================================================================================================================================================================================================================================================================================================================================================================================================================================================================================================================================================================================================================================================================================================================================================================================================================================================================================================================================================================================================================================================================================================================================================================================================================================================================================================================================================================================================================================================================================================================================================================================================================================================================================================================================================================================================================================================================================================================================================================================================================================================================================================================================================================================================================================================================================================================================================================================================================================================================================================================================================================================================================================================================================================================================================================================================================================================================================================================================================================================================================================================================================================================================================================================================================================================================================================================================================================================================================================================================================================================================================================================================================] - 0s 273us/sample - loss: 0.0771\n"
     ]
    },
    {
     "data": {
      "text/plain": [
       "0.09086239206790923"
      ]
     },
     "execution_count": 811,
     "metadata": {},
     "output_type": "execute_result"
    }
   ],
   "source": [
    "y_test = test.filter(items=[\"Numeric Key\"])\n",
    "hot_y_test = numpy.stack(y_test['Numeric Key'].map(one_hot_key).to_numpy())\n",
    "\n",
    "X_test = one_hot_dataframe(test)\n",
    "\n",
    "encoder.evaluate(X_test.to_numpy(), hot_y_test)"
   ]
  },
  {
   "cell_type": "code",
   "execution_count": 812,
   "metadata": {},
   "outputs": [
    {
     "name": "stdout",
     "output_type": "stream",
     "text": [
      "F, D, C and E are from F (actually from F or C).\n"
     ]
    },
    {
     "data": {
      "text/plain": [
       "array([[0.10191824, 0.00647371, 0.16824706, 0.08159453, 0.01495362,\n",
       "        0.26252   , 0.20647852]], dtype=float32)"
      ]
     },
     "execution_count": 812,
     "metadata": {},
     "output_type": "execute_result"
    }
   ],
   "source": [
    "prediction = encoder.predict(two_d_one_hot(5, 62, 60, 20))\n",
    "print(\"F, D, C and E are from %s (actually from F or C).\" % keys[numpy.argmax(prediction)])\n",
    "prediction"
   ]
  },
  {
   "cell_type": "code",
   "execution_count": 813,
   "metadata": {},
   "outputs": [
    {
     "name": "stdout",
     "output_type": "stream",
     "text": [
      "D, F#, G and A are from C (actually from D or G).\n"
     ]
    },
    {
     "data": {
      "text/plain": [
       "array([[0.07583455, 0.00254881, 0.41306633, 0.14512776, 0.05266291,\n",
       "        0.10832995, 0.1740011 ]], dtype=float32)"
      ]
     },
     "execution_count": 813,
     "metadata": {},
     "output_type": "execute_result"
    }
   ],
   "source": [
    "prediction = encoder.predict(two_d_one_hot(14, 18, 19, 21))\n",
    "print(\"D, F#, G and A are from %s (actually from D or G).\" % keys[numpy.argmax(prediction)])\n",
    "prediction"
   ]
  },
  {
   "cell_type": "code",
   "execution_count": 814,
   "metadata": {},
   "outputs": [
    {
     "name": "stdout",
     "output_type": "stream",
     "text": [
      "G, B, F and C are from C (actually from C).\n"
     ]
    },
    {
     "data": {
      "text/plain": [
       "array([[0.01060135, 0.00818642, 0.48434788, 0.2251734 , 0.01007639,\n",
       "        0.35888645, 0.1040252 ]], dtype=float32)"
      ]
     },
     "execution_count": 814,
     "metadata": {},
     "output_type": "execute_result"
    }
   ],
   "source": [
    "prediction = encoder.predict(two_d_one_hot(55, 71, 17, 24))\n",
    "print(\"G, B, F and C are from %s (actually from C).\" % keys[numpy.argmax(prediction)])\n",
    "prediction"
   ]
  }
 ],
 "metadata": {
  "kernelspec": {
   "display_name": ".venv",
   "language": "python",
   "name": ".venv"
  },
  "language_info": {
   "codemirror_mode": {
    "name": "ipython",
    "version": 3
   },
   "file_extension": ".py",
   "mimetype": "text/x-python",
   "name": "python",
   "nbconvert_exporter": "python",
   "pygments_lexer": "ipython3",
   "version": "3.7.4"
  }
 },
 "nbformat": 4,
 "nbformat_minor": 2
}
