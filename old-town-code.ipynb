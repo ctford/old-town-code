{
 "cells": [
  {
   "cell_type": "markdown",
   "metadata": {},
   "source": [
    "# Old town code"
   ]
  },
  {
   "cell_type": "markdown",
   "metadata": {},
   "source": [
    "## Import"
   ]
  },
  {
   "cell_type": "code",
   "execution_count": 246,
   "metadata": {},
   "outputs": [],
   "source": [
    "import pandas\n",
    "import sklearn"
   ]
  },
  {
   "cell_type": "markdown",
   "metadata": {},
   "source": [
    "## Load data"
   ]
  },
  {
   "cell_type": "code",
   "execution_count": 247,
   "metadata": {},
   "outputs": [
    {
     "name": "stdout",
     "output_type": "stream",
     "text": [
      "Training size is 56000.\n",
      "Test size is 14000.\n"
     ]
    }
   ],
   "source": [
    "df = pandas.read_csv(\"notes.csv\")\n",
    "\n",
    "train, test = sklearn.model_selection.train_test_split(df, test_size=0.20, random_state=42)\n",
    "\n",
    "print(\"Training size is %i.\" % len(train))\n",
    "print(\"Test size is %i.\" % len(test))"
   ]
  },
  {
   "cell_type": "markdown",
   "metadata": {},
   "source": [
    "## Linear Regression"
   ]
  },
  {
   "cell_type": "code",
   "execution_count": 248,
   "metadata": {
    "scrolled": true
   },
   "outputs": [
    {
     "name": "stdout",
     "output_type": "stream",
     "text": [
      "Training score (bigger is worse): 0.0013533365276678921\n",
      "Testing score (bigger is worse): 0.000896711569523756\n"
     ]
    }
   ],
   "source": [
    "coding = {\n",
    "  \"A\": 1,\n",
    "  \"B\": 2,\n",
    "  \"C\": 3,\n",
    "  \"D\": 4,\n",
    "  \"E\": 5,\n",
    "  \"F\": 6,\n",
    "  \"G\": 7\n",
    "}\n",
    "\n",
    "x_train = train.drop([\"Key\"], axis=1)\n",
    "y_train = train[\"Key\"].map(coding)\n",
    "\n",
    "linear = sklearn.linear_model.LinearRegression()\n",
    "linear.fit(x_train, y_train)\n",
    "\n",
    "x_test = test.drop([\"Key\"], axis=1)\n",
    "y_test = test[\"Key\"].map(coding)\n",
    "\n",
    "print(\"Training score (bigger is worse):\" , linear.score(x_train, y_train))\n",
    "print(\"Testing score (bigger is worse):\" , linear.score(x_test, y_test))"
   ]
  },
  {
   "cell_type": "markdown",
   "metadata": {},
   "source": [
    "## Logistic Regression"
   ]
  },
  {
   "cell_type": "code",
   "execution_count": 249,
   "metadata": {
    "scrolled": true
   },
   "outputs": [
    {
     "name": "stdout",
     "output_type": "stream",
     "text": [
      "Training accuracy: 0.16164285714285714\n",
      "Testing accuracy: 0.15721428571428572\n"
     ]
    }
   ],
   "source": [
    "logistic = sklearn.linear_model.LogisticRegression(solver = 'lbfgs', multi_class = 'ovr')\n",
    "logistic.fit(x_train, y_train)\n",
    "\n",
    "y_train_pred = logistic.predict(x_train)\n",
    "print(\"Training accuracy:\", sklearn.metrics.accuracy_score(y_train, y_train_pred))\n",
    "\n",
    "y_test_pred = logistic.predict(x_test)\n",
    "print(\"Testing accuracy:\", sklearn.metrics.accuracy_score(y_test, y_test_pred))"
   ]
  }
 ],
 "metadata": {
  "kernelspec": {
   "display_name": "Python 3",
   "language": "python",
   "name": "python3"
  },
  "language_info": {
   "codemirror_mode": {
    "name": "ipython",
    "version": 3
   },
   "file_extension": ".py",
   "mimetype": "text/x-python",
   "name": "python",
   "nbconvert_exporter": "python",
   "pygments_lexer": "ipython3",
   "version": "3.7.4"
  }
 },
 "nbformat": 4,
 "nbformat_minor": 2
}
